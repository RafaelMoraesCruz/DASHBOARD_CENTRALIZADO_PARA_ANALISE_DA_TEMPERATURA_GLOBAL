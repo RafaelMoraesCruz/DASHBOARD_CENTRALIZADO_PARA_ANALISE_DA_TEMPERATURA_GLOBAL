{
 "cells": [
  {
   "cell_type": "code",
   "execution_count": 17,
   "metadata": {},
   "outputs": [],
   "source": [
    "import pandas as pd\n",
    "from ydata_profiling import ProfileReport\n"
   ]
  },
  {
   "cell_type": "markdown",
   "metadata": {},
   "source": [
    "## COBERTURA VEGETAL"
   ]
  },
  {
   "cell_type": "code",
   "execution_count": 18,
   "metadata": {},
   "outputs": [
    {
     "name": "stderr",
     "output_type": "stream",
     "text": [
      "Summarize dataset:   0%|          | 0/5 [00:00<?, ?it/s]/home/rgmc/Desktop/projetos/trabalho-conclusao-cesar/venv/lib/python3.10/site-packages/ydata_profiling/model/typeset.py:208: FutureWarning: is_categorical_dtype is deprecated and will be removed in a future version. Use isinstance(dtype, CategoricalDtype) instead\n",
      "  is_valid_dtype = pdt.is_categorical_dtype(series) and not pdt.is_bool_dtype(\n",
      "/home/rgmc/Desktop/projetos/trabalho-conclusao-cesar/venv/lib/python3.10/site-packages/ydata_profiling/model/typeset.py:125: FutureWarning: is_categorical_dtype is deprecated and will be removed in a future version. Use isinstance(dtype, CategoricalDtype) instead\n",
      "  not pdt.is_categorical_dtype(series)\n",
      "/home/rgmc/Desktop/projetos/trabalho-conclusao-cesar/venv/lib/python3.10/site-packages/ydata_profiling/model/typeset.py:208: FutureWarning: is_categorical_dtype is deprecated and will be removed in a future version. Use isinstance(dtype, CategoricalDtype) instead\n",
      "  is_valid_dtype = pdt.is_categorical_dtype(series) and not pdt.is_bool_dtype(\n",
      "/home/rgmc/Desktop/projetos/trabalho-conclusao-cesar/venv/lib/python3.10/site-packages/ydata_profiling/model/typeset.py:125: FutureWarning: is_categorical_dtype is deprecated and will be removed in a future version. Use isinstance(dtype, CategoricalDtype) instead\n",
      "  not pdt.is_categorical_dtype(series)\n",
      "/home/rgmc/Desktop/projetos/trabalho-conclusao-cesar/venv/lib/python3.10/site-packages/ydata_profiling/model/typeset_relations.py:34: FutureWarning: is_categorical_dtype is deprecated and will be removed in a future version. Use isinstance(dtype, CategoricalDtype) instead\n",
      "  if pdt.is_categorical_dtype(series):\n",
      "/home/rgmc/Desktop/projetos/trabalho-conclusao-cesar/venv/lib/python3.10/site-packages/ydata_profiling/model/typeset.py:208: FutureWarning: is_categorical_dtype is deprecated and will be removed in a future version. Use isinstance(dtype, CategoricalDtype) instead\n",
      "  is_valid_dtype = pdt.is_categorical_dtype(series) and not pdt.is_bool_dtype(\n",
      "/home/rgmc/Desktop/projetos/trabalho-conclusao-cesar/venv/lib/python3.10/site-packages/ydata_profiling/model/typeset.py:125: FutureWarning: is_categorical_dtype is deprecated and will be removed in a future version. Use isinstance(dtype, CategoricalDtype) instead\n",
      "  not pdt.is_categorical_dtype(series)\n",
      "Summarize dataset:   0%|          | 0/8 [00:00<?, ?it/s, Describe variable:ano]/home/rgmc/Desktop/projetos/trabalho-conclusao-cesar/venv/lib/python3.10/site-packages/ydata_profiling/model/typeset_relations.py:34: FutureWarning: is_categorical_dtype is deprecated and will be removed in a future version. Use isinstance(dtype, CategoricalDtype) instead\n",
      "  if pdt.is_categorical_dtype(series):\n",
      "Summarize dataset: 100%|██████████| 16/16 [00:00<00:00, 17.00it/s, Completed]                                                  \n",
      "Generate report structure: 100%|██████████| 1/1 [00:01<00:00,  1.58s/it]\n",
      "Render HTML: 100%|██████████| 1/1 [00:00<00:00,  4.69it/s]\n",
      "Export report to file: 100%|██████████| 1/1 [00:00<00:00, 683.89it/s]\n"
     ]
    }
   ],
   "source": [
    "cobertura_vegetal = pd.read_excel(\"../data/deforestation/gfw_2023_statistics_summary_clean_melted.xlsx\")\n",
    "cobertura_vegetal.rename(columns={\"desmatamento\": \"cobertura_vegetal_perdida\"}, inplace=True)\n",
    "design_report = ProfileReport (cobertura_vegetal)\n",
    "design_report.to_file (output_file = '../ydata_profiling/report_cobertura_vegetal.html')"
   ]
  },
  {
   "cell_type": "markdown",
   "metadata": {},
   "source": [
    "## TEMPERATURA"
   ]
  },
  {
   "cell_type": "code",
   "execution_count": 19,
   "metadata": {},
   "outputs": [
    {
     "name": "stderr",
     "output_type": "stream",
     "text": [
      "Summarize dataset:   0%|          | 0/5 [00:00<?, ?it/s]/home/rgmc/Desktop/projetos/trabalho-conclusao-cesar/venv/lib/python3.10/site-packages/ydata_profiling/model/typeset.py:208: FutureWarning: is_categorical_dtype is deprecated and will be removed in a future version. Use isinstance(dtype, CategoricalDtype) instead\n",
      "  is_valid_dtype = pdt.is_categorical_dtype(series) and not pdt.is_bool_dtype(\n",
      "/home/rgmc/Desktop/projetos/trabalho-conclusao-cesar/venv/lib/python3.10/site-packages/ydata_profiling/model/typeset.py:208: FutureWarning: is_categorical_dtype is deprecated and will be removed in a future version. Use isinstance(dtype, CategoricalDtype) instead\n",
      "  is_valid_dtype = pdt.is_categorical_dtype(series) and not pdt.is_bool_dtype(\n",
      "/home/rgmc/Desktop/projetos/trabalho-conclusao-cesar/venv/lib/python3.10/site-packages/ydata_profiling/model/typeset.py:125: FutureWarning: is_categorical_dtype is deprecated and will be removed in a future version. Use isinstance(dtype, CategoricalDtype) instead\n",
      "  not pdt.is_categorical_dtype(series)\n",
      "Summarize dataset:  12%|█▎        | 1/8 [00:00<00:00, 42.31it/s, Describe variable:celsius]/home/rgmc/Desktop/projetos/trabalho-conclusao-cesar/venv/lib/python3.10/site-packages/ydata_profiling/model/typeset_relations.py:34: FutureWarning: is_categorical_dtype is deprecated and will be removed in a future version. Use isinstance(dtype, CategoricalDtype) instead\n",
      "  if pdt.is_categorical_dtype(series):\n",
      "/home/rgmc/Desktop/projetos/trabalho-conclusao-cesar/venv/lib/python3.10/site-packages/ydata_profiling/model/typeset.py:208: FutureWarning: is_categorical_dtype is deprecated and will be removed in a future version. Use isinstance(dtype, CategoricalDtype) instead\n",
      "  is_valid_dtype = pdt.is_categorical_dtype(series) and not pdt.is_bool_dtype(\n",
      "/home/rgmc/Desktop/projetos/trabalho-conclusao-cesar/venv/lib/python3.10/site-packages/ydata_profiling/model/typeset.py:125: FutureWarning: is_categorical_dtype is deprecated and will be removed in a future version. Use isinstance(dtype, CategoricalDtype) instead\n",
      "  not pdt.is_categorical_dtype(series)\n",
      "/home/rgmc/Desktop/projetos/trabalho-conclusao-cesar/venv/lib/python3.10/site-packages/ydata_profiling/model/typeset_relations.py:34: FutureWarning: is_categorical_dtype is deprecated and will be removed in a future version. Use isinstance(dtype, CategoricalDtype) instead\n",
      "  if pdt.is_categorical_dtype(series):\n",
      "Summarize dataset: 100%|██████████| 16/16 [00:00<00:00, 17.13it/s, Completed]                  \n",
      "Generate report structure: 100%|██████████| 1/1 [00:01<00:00,  1.57s/it]\n",
      "Render HTML: 100%|██████████| 1/1 [00:00<00:00,  5.26it/s]\n",
      "Export report to file: 100%|██████████| 1/1 [00:00<00:00, 613.65it/s]\n"
     ]
    }
   ],
   "source": [
    "temperatura = pd.read_excel(\"../data/temperature/word-wide-temperature.xlsx\")\n",
    "design_report = ProfileReport (temperatura)\n",
    "design_report.to_file (output_file = '../ydata_profiling/report_temperatura.html')"
   ]
  },
  {
   "cell_type": "markdown",
   "metadata": {},
   "source": [
    "## CO2"
   ]
  },
  {
   "cell_type": "code",
   "execution_count": 20,
   "metadata": {},
   "outputs": [
    {
     "name": "stderr",
     "output_type": "stream",
     "text": [
      "Summarize dataset:   0%|          | 0/5 [00:00<?, ?it/s]/home/rgmc/Desktop/projetos/trabalho-conclusao-cesar/venv/lib/python3.10/site-packages/ydata_profiling/model/typeset.py:208: FutureWarning: is_categorical_dtype is deprecated and will be removed in a future version. Use isinstance(dtype, CategoricalDtype) instead\n",
      "  is_valid_dtype = pdt.is_categorical_dtype(series) and not pdt.is_bool_dtype(\n",
      "/home/rgmc/Desktop/projetos/trabalho-conclusao-cesar/venv/lib/python3.10/site-packages/ydata_profiling/model/typeset.py:125: FutureWarning: is_categorical_dtype is deprecated and will be removed in a future version. Use isinstance(dtype, CategoricalDtype) instead\n",
      "  not pdt.is_categorical_dtype(series)\n",
      "/home/rgmc/Desktop/projetos/trabalho-conclusao-cesar/venv/lib/python3.10/site-packages/ydata_profiling/model/typeset_relations.py:34: FutureWarning: is_categorical_dtype is deprecated and will be removed in a future version. Use isinstance(dtype, CategoricalDtype) instead\n",
      "  if pdt.is_categorical_dtype(series):\n",
      "/home/rgmc/Desktop/projetos/trabalho-conclusao-cesar/venv/lib/python3.10/site-packages/ydata_profiling/model/typeset.py:208: FutureWarning: is_categorical_dtype is deprecated and will be removed in a future version. Use isinstance(dtype, CategoricalDtype) instead\n",
      "  is_valid_dtype = pdt.is_categorical_dtype(series) and not pdt.is_bool_dtype(\n",
      "/home/rgmc/Desktop/projetos/trabalho-conclusao-cesar/venv/lib/python3.10/site-packages/ydata_profiling/model/typeset.py:125: FutureWarning: is_categorical_dtype is deprecated and will be removed in a future version. Use isinstance(dtype, CategoricalDtype) instead\n",
      "  not pdt.is_categorical_dtype(series)\n",
      "/home/rgmc/Desktop/projetos/trabalho-conclusao-cesar/venv/lib/python3.10/site-packages/ydata_profiling/model/typeset.py:208: FutureWarning: is_categorical_dtype is deprecated and will be removed in a future version. Use isinstance(dtype, CategoricalDtype) instead\n",
      "  is_valid_dtype = pdt.is_categorical_dtype(series) and not pdt.is_bool_dtype(\n",
      "/home/rgmc/Desktop/projetos/trabalho-conclusao-cesar/venv/lib/python3.10/site-packages/ydata_profiling/model/typeset.py:125: FutureWarning: is_categorical_dtype is deprecated and will be removed in a future version. Use isinstance(dtype, CategoricalDtype) instead\n",
      "  not pdt.is_categorical_dtype(series)\n",
      "/home/rgmc/Desktop/projetos/trabalho-conclusao-cesar/venv/lib/python3.10/site-packages/ydata_profiling/model/typeset_relations.py:34: FutureWarning: is_categorical_dtype is deprecated and will be removed in a future version. Use isinstance(dtype, CategoricalDtype) instead\n",
      "  if pdt.is_categorical_dtype(series):\n",
      "/home/rgmc/Desktop/projetos/trabalho-conclusao-cesar/venv/lib/python3.10/site-packages/ydata_profiling/model/typeset.py:125: FutureWarning: is_categorical_dtype is deprecated and will be removed in a future version. Use isinstance(dtype, CategoricalDtype) instead\n",
      "  not pdt.is_categorical_dtype(series)\n",
      "/home/rgmc/Desktop/projetos/trabalho-conclusao-cesar/venv/lib/python3.10/site-packages/ydata_profiling/model/typeset.py:208: FutureWarning: is_categorical_dtype is deprecated and will be removed in a future version. Use isinstance(dtype, CategoricalDtype) instead\n",
      "  is_valid_dtype = pdt.is_categorical_dtype(series) and not pdt.is_bool_dtype(\n",
      "/home/rgmc/Desktop/projetos/trabalho-conclusao-cesar/venv/lib/python3.10/site-packages/ydata_profiling/model/typeset_relations.py:34: FutureWarning: is_categorical_dtype is deprecated and will be removed in a future version. Use isinstance(dtype, CategoricalDtype) instead\n",
      "  if pdt.is_categorical_dtype(series):\n",
      "/home/rgmc/Desktop/projetos/trabalho-conclusao-cesar/venv/lib/python3.10/site-packages/ydata_profiling/model/typeset.py:125: FutureWarning: is_categorical_dtype is deprecated and will be removed in a future version. Use isinstance(dtype, CategoricalDtype) instead\n",
      "  not pdt.is_categorical_dtype(series)\n",
      "/home/rgmc/Desktop/projetos/trabalho-conclusao-cesar/venv/lib/python3.10/site-packages/ydata_profiling/model/typeset.py:208: FutureWarning: is_categorical_dtype is deprecated and will be removed in a future version. Use isinstance(dtype, CategoricalDtype) instead\n",
      "  is_valid_dtype = pdt.is_categorical_dtype(series) and not pdt.is_bool_dtype(\n",
      "/home/rgmc/Desktop/projetos/trabalho-conclusao-cesar/venv/lib/python3.10/site-packages/ydata_profiling/model/typeset.py:125: FutureWarning: is_categorical_dtype is deprecated and will be removed in a future version. Use isinstance(dtype, CategoricalDtype) instead\n",
      "  not pdt.is_categorical_dtype(series)\n",
      "Summarize dataset:   0%|          | 0/11 [00:00<?, ?it/s, Describe variable:Year]/home/rgmc/Desktop/projetos/trabalho-conclusao-cesar/venv/lib/python3.10/site-packages/ydata_profiling/model/typeset.py:208: FutureWarning: is_categorical_dtype is deprecated and will be removed in a future version. Use isinstance(dtype, CategoricalDtype) instead\n",
      "  is_valid_dtype = pdt.is_categorical_dtype(series) and not pdt.is_bool_dtype(\n",
      "Summarize dataset:   9%|▉         | 1/11 [00:00<00:02,  3.85it/s, Describe variable:Year]/home/rgmc/Desktop/projetos/trabalho-conclusao-cesar/venv/lib/python3.10/site-packages/ydata_profiling/model/typeset.py:125: FutureWarning: is_categorical_dtype is deprecated and will be removed in a future version. Use isinstance(dtype, CategoricalDtype) instead\n",
      "  not pdt.is_categorical_dtype(series)\n",
      "/home/rgmc/Desktop/projetos/trabalho-conclusao-cesar/venv/lib/python3.10/site-packages/ydata_profiling/model/typeset_relations.py:34: FutureWarning: is_categorical_dtype is deprecated and will be removed in a future version. Use isinstance(dtype, CategoricalDtype) instead\n",
      "  if pdt.is_categorical_dtype(series):\n",
      "/home/rgmc/Desktop/projetos/trabalho-conclusao-cesar/venv/lib/python3.10/site-packages/ydata_profiling/model/typeset.py:208: FutureWarning: is_categorical_dtype is deprecated and will be removed in a future version. Use isinstance(dtype, CategoricalDtype) instead\n",
      "  is_valid_dtype = pdt.is_categorical_dtype(series) and not pdt.is_bool_dtype(\n",
      "/home/rgmc/Desktop/projetos/trabalho-conclusao-cesar/venv/lib/python3.10/site-packages/ydata_profiling/model/typeset.py:125: FutureWarning: is_categorical_dtype is deprecated and will be removed in a future version. Use isinstance(dtype, CategoricalDtype) instead\n",
      "  not pdt.is_categorical_dtype(series)\n",
      "Summarize dataset:  62%|██████▏   | 8/13 [00:00<00:00,  9.20it/s, Calculate auto correlation]              /home/rgmc/Desktop/projetos/trabalho-conclusao-cesar/venv/lib/python3.10/site-packages/ydata_profiling/model/correlations.py:66: UserWarning: There was an attempt to calculate the auto correlation, but this failed.\n",
      "To hide this warning, disable the calculation\n",
      "(using `df.profile_report(correlations={\"auto\": {\"calculate\": False}})`\n",
      "If this is problematic for your use case, please report this as an issue:\n",
      "https://github.com/ydataai/ydata-profiling/issues\n",
      "(include the error message: 'Function <code object pandas_auto_compute at 0x716b10b06ad0, file \"/home/rgmc/Desktop/projetos/trabalho-conclusao-cesar/venv/lib/python3.10/site-packages/ydata_profiling/model/pandas/correlations_pandas.py\", line 164>')\n",
      "  warnings.warn(\n",
      "Summarize dataset:  84%|████████▍ | 27/32 [00:02<00:00,  7.28it/s, Missing diagram heatmap]                               /home/rgmc/Desktop/projetos/trabalho-conclusao-cesar/venv/lib/python3.10/site-packages/seaborn/matrix.py:260: FutureWarning: Format strings passed to MaskedConstant are ignored, but in future may error or produce different behavior\n",
      "  annotation = (\"{:\" + self.fmt + \"}\").format(val)\n",
      "/home/rgmc/Desktop/projetos/trabalho-conclusao-cesar/venv/lib/python3.10/site-packages/ydata_profiling/model/missing.py:78: UserWarning: There was an attempt to generate the Heatmap missing values diagrams, but this failed.\n",
      "To hide this warning, disable the calculation\n",
      "(using `df.profile_report(missing_diagrams={\"Heatmap\": False}`)\n",
      "If this is problematic for your use case, please report this as an issue:\n",
      "https://github.com/ydataai/ydata-profiling/issues\n",
      "(include the error message: 'could not convert string to float: '--'')\n",
      "  warnings.warn(\n",
      "Summarize dataset: 100%|██████████| 32/32 [00:03<00:00, 10.55it/s, Completed]               \n",
      "Generate report structure: 100%|██████████| 1/1 [00:03<00:00,  3.75s/it]\n",
      "Render HTML: 100%|██████████| 1/1 [00:00<00:00,  1.70it/s]\n",
      "Export report to file: 100%|██████████| 1/1 [00:00<00:00, 243.67it/s]\n"
     ]
    }
   ],
   "source": [
    "co2 = pd.read_csv(\"../data/CO2/co2-fossil-plus-land-use.csv\")\n",
    "design_report = ProfileReport (co2)\n",
    "design_report.to_file (output_file = '../ydata_profiling/report_co2.html')"
   ]
  },
  {
   "cell_type": "markdown",
   "metadata": {},
   "source": [
    "## COBERTURA GELO"
   ]
  },
  {
   "cell_type": "code",
   "execution_count": 21,
   "metadata": {},
   "outputs": [
    {
     "name": "stderr",
     "output_type": "stream",
     "text": [
      "Summarize dataset:   0%|          | 0/5 [00:00<?, ?it/s]"
     ]
    },
    {
     "name": "stderr",
     "output_type": "stream",
     "text": [
      "/home/rgmc/Desktop/projetos/trabalho-conclusao-cesar/venv/lib/python3.10/site-packages/ydata_profiling/model/typeset.py:208: FutureWarning: is_categorical_dtype is deprecated and will be removed in a future version. Use isinstance(dtype, CategoricalDtype) instead\n",
      "  is_valid_dtype = pdt.is_categorical_dtype(series) and not pdt.is_bool_dtype(\n",
      "/home/rgmc/Desktop/projetos/trabalho-conclusao-cesar/venv/lib/python3.10/site-packages/ydata_profiling/model/typeset.py:125: FutureWarning: is_categorical_dtype is deprecated and will be removed in a future version. Use isinstance(dtype, CategoricalDtype) instead\n",
      "  not pdt.is_categorical_dtype(series)\n",
      "/home/rgmc/Desktop/projetos/trabalho-conclusao-cesar/venv/lib/python3.10/site-packages/ydata_profiling/model/typeset_relations.py:34: FutureWarning: is_categorical_dtype is deprecated and will be removed in a future version. Use isinstance(dtype, CategoricalDtype) instead\n",
      "  if pdt.is_categorical_dtype(series):\n",
      "/home/rgmc/Desktop/projetos/trabalho-conclusao-cesar/venv/lib/python3.10/site-packages/ydata_profiling/model/typeset.py:208: FutureWarning: is_categorical_dtype is deprecated and will be removed in a future version. Use isinstance(dtype, CategoricalDtype) instead\n",
      "  is_valid_dtype = pdt.is_categorical_dtype(series) and not pdt.is_bool_dtype(\n",
      "/home/rgmc/Desktop/projetos/trabalho-conclusao-cesar/venv/lib/python3.10/site-packages/ydata_profiling/model/typeset.py:125: FutureWarning: is_categorical_dtype is deprecated and will be removed in a future version. Use isinstance(dtype, CategoricalDtype) instead\n",
      "  not pdt.is_categorical_dtype(series)\n",
      "/home/rgmc/Desktop/projetos/trabalho-conclusao-cesar/venv/lib/python3.10/site-packages/ydata_profiling/model/typeset_relations.py:34: FutureWarning: is_categorical_dtype is deprecated and will be removed in a future version. Use isinstance(dtype, CategoricalDtype) instead\n",
      "  if pdt.is_categorical_dtype(series):\n",
      "/home/rgmc/Desktop/projetos/trabalho-conclusao-cesar/venv/lib/python3.10/site-packages/ydata_profiling/model/typeset.py:208: FutureWarning: is_categorical_dtype is deprecated and will be removed in a future version. Use isinstance(dtype, CategoricalDtype) instead\n",
      "  is_valid_dtype = pdt.is_categorical_dtype(series) and not pdt.is_bool_dtype(\n",
      "Summarize dataset:  50%|█████     | 5/10 [00:00<00:00, 104.63it/s, Calculate auto correlation]/home/rgmc/Desktop/projetos/trabalho-conclusao-cesar/venv/lib/python3.10/site-packages/ydata_profiling/model/correlations.py:66: UserWarning: There was an attempt to calculate the auto correlation, but this failed.\n",
      "To hide this warning, disable the calculation\n",
      "(using `df.profile_report(correlations={\"auto\": {\"calculate\": False}})`\n",
      "If this is problematic for your use case, please report this as an issue:\n",
      "https://github.com/ydataai/ydata-profiling/issues\n",
      "(include the error message: 'could not convert string to float: 'north'')\n",
      "  warnings.warn(\n",
      "Summarize dataset: 100%|██████████| 16/16 [00:00<00:00, 24.96it/s, Completed]                    \n",
      "Generate report structure: 100%|██████████| 1/1 [00:00<00:00,  1.03it/s]\n",
      "Render HTML: 100%|██████████| 1/1 [00:00<00:00,  6.63it/s]\n",
      "Export report to file: 100%|██████████| 1/1 [00:00<00:00, 786.78it/s]\n"
     ]
    }
   ],
   "source": [
    "cobertura_gelo = pd.read_csv(\"../data/sea-ice-coverage/seaice-treated.csv\")\n",
    "design_report = ProfileReport (cobertura_gelo)\n",
    "design_report.to_file (output_file = '../ydata_profiling/report_cobertura_gelo.html')"
   ]
  },
  {
   "cell_type": "markdown",
   "metadata": {},
   "source": [
    "## GERAL"
   ]
  },
  {
   "cell_type": "code",
   "execution_count": 22,
   "metadata": {},
   "outputs": [
    {
     "name": "stderr",
     "output_type": "stream",
     "text": [
      "Summarize dataset:   0%|          | 0/5 [00:00<?, ?it/s]"
     ]
    },
    {
     "name": "stderr",
     "output_type": "stream",
     "text": [
      "/home/rgmc/Desktop/projetos/trabalho-conclusao-cesar/venv/lib/python3.10/site-packages/ydata_profiling/model/typeset.py:125: FutureWarning: is_categorical_dtype is deprecated and will be removed in a future version. Use isinstance(dtype, CategoricalDtype) instead\n",
      "  not pdt.is_categorical_dtype(series)\n",
      "/home/rgmc/Desktop/projetos/trabalho-conclusao-cesar/venv/lib/python3.10/site-packages/ydata_profiling/model/typeset.py:125: FutureWarning: is_categorical_dtype is deprecated and will be removed in a future version. Use isinstance(dtype, CategoricalDtype) instead\n",
      "  not pdt.is_categorical_dtype(series)\n",
      "/home/rgmc/Desktop/projetos/trabalho-conclusao-cesar/venv/lib/python3.10/site-packages/ydata_profiling/model/typeset.py:125: FutureWarning: is_categorical_dtype is deprecated and will be removed in a future version. Use isinstance(dtype, CategoricalDtype) instead\n",
      "  not pdt.is_categorical_dtype(series)\n",
      "Summarize dataset: 100%|██████████| 39/39 [00:03<00:00, 10.79it/s, Completed]                                                   \n",
      "Generate report structure: 100%|██████████| 1/1 [00:01<00:00,  1.69s/it]\n",
      "Render HTML: 100%|██████████| 1/1 [00:00<00:00,  2.98it/s]\n",
      "Export report to file: 100%|██████████| 1/1 [00:00<00:00, 537.25it/s]\n"
     ]
    }
   ],
   "source": [
    "geral_atributos = pd.read_excel(\"../data/visao_geral_atributos_juntos.xlsx\")\n",
    "geral_atributos.rename(columns={\"cobertura_vegetal\": \"cobertura_vegetal_perdida\"}, inplace=True)\n",
    "design_report = ProfileReport (geral_atributos)\n",
    "design_report.to_file (output_file = '../ydata_profiling/report_geral_atributos.html')"
   ]
  }
 ],
 "metadata": {
  "kernelspec": {
   "display_name": "venv",
   "language": "python",
   "name": "python3"
  },
  "language_info": {
   "codemirror_mode": {
    "name": "ipython",
    "version": 3
   },
   "file_extension": ".py",
   "mimetype": "text/x-python",
   "name": "python",
   "nbconvert_exporter": "python",
   "pygments_lexer": "ipython3",
   "version": "3.10.12"
  }
 },
 "nbformat": 4,
 "nbformat_minor": 2
}
