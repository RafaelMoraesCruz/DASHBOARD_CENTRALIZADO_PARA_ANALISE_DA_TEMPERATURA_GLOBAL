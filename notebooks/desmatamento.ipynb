{
 "cells": [
  {
   "cell_type": "code",
   "execution_count": 30,
   "metadata": {},
   "outputs": [
    {
     "data": {
      "text/html": [
       "<div>\n",
       "<style scoped>\n",
       "    .dataframe tbody tr th:only-of-type {\n",
       "        vertical-align: middle;\n",
       "    }\n",
       "\n",
       "    .dataframe tbody tr th {\n",
       "        vertical-align: top;\n",
       "    }\n",
       "\n",
       "    .dataframe thead th {\n",
       "        text-align: right;\n",
       "    }\n",
       "</style>\n",
       "<table border=\"1\" class=\"dataframe\">\n",
       "  <thead>\n",
       "    <tr style=\"text-align: right;\">\n",
       "      <th></th>\n",
       "      <th>country</th>\n",
       "      <th>2001_extent</th>\n",
       "      <th>2002</th>\n",
       "      <th>2003</th>\n",
       "      <th>2004</th>\n",
       "      <th>2005</th>\n",
       "      <th>2006</th>\n",
       "      <th>2007</th>\n",
       "      <th>2008</th>\n",
       "      <th>2009</th>\n",
       "      <th>...</th>\n",
       "      <th>2014</th>\n",
       "      <th>2015</th>\n",
       "      <th>2016</th>\n",
       "      <th>2017</th>\n",
       "      <th>2018</th>\n",
       "      <th>2019</th>\n",
       "      <th>2020</th>\n",
       "      <th>2021</th>\n",
       "      <th>2022</th>\n",
       "      <th>2023</th>\n",
       "    </tr>\n",
       "  </thead>\n",
       "  <tbody>\n",
       "    <tr>\n",
       "      <th>0</th>\n",
       "      <td>Angola</td>\n",
       "      <td>2457476</td>\n",
       "      <td>3500</td>\n",
       "      <td>2964</td>\n",
       "      <td>2355</td>\n",
       "      <td>3110</td>\n",
       "      <td>1401</td>\n",
       "      <td>8060</td>\n",
       "      <td>2699</td>\n",
       "      <td>5343</td>\n",
       "      <td>...</td>\n",
       "      <td>10993</td>\n",
       "      <td>9000</td>\n",
       "      <td>12048</td>\n",
       "      <td>11180</td>\n",
       "      <td>13520</td>\n",
       "      <td>10005</td>\n",
       "      <td>8918</td>\n",
       "      <td>24339</td>\n",
       "      <td>15589</td>\n",
       "      <td>17669</td>\n",
       "    </tr>\n",
       "    <tr>\n",
       "      <th>1</th>\n",
       "      <td>Antigua and Barbuda</td>\n",
       "      <td>59</td>\n",
       "      <td>0</td>\n",
       "      <td>0</td>\n",
       "      <td>0</td>\n",
       "      <td>0</td>\n",
       "      <td>0</td>\n",
       "      <td>0</td>\n",
       "      <td>0</td>\n",
       "      <td>0</td>\n",
       "      <td>...</td>\n",
       "      <td>0</td>\n",
       "      <td>0</td>\n",
       "      <td>0</td>\n",
       "      <td>0</td>\n",
       "      <td>4</td>\n",
       "      <td>0</td>\n",
       "      <td>0</td>\n",
       "      <td>0</td>\n",
       "      <td>0</td>\n",
       "      <td>0</td>\n",
       "    </tr>\n",
       "    <tr>\n",
       "      <th>2</th>\n",
       "      <td>Argentina</td>\n",
       "      <td>4412118</td>\n",
       "      <td>9317</td>\n",
       "      <td>14448</td>\n",
       "      <td>28084</td>\n",
       "      <td>31424</td>\n",
       "      <td>24101</td>\n",
       "      <td>18688</td>\n",
       "      <td>47052</td>\n",
       "      <td>20819</td>\n",
       "      <td>...</td>\n",
       "      <td>19290</td>\n",
       "      <td>10542</td>\n",
       "      <td>15242</td>\n",
       "      <td>17189</td>\n",
       "      <td>9493</td>\n",
       "      <td>8965</td>\n",
       "      <td>20834</td>\n",
       "      <td>11904</td>\n",
       "      <td>21382</td>\n",
       "      <td>11443</td>\n",
       "    </tr>\n",
       "    <tr>\n",
       "      <th>3</th>\n",
       "      <td>Aruba</td>\n",
       "      <td>8</td>\n",
       "      <td>0</td>\n",
       "      <td>0</td>\n",
       "      <td>0</td>\n",
       "      <td>0</td>\n",
       "      <td>0</td>\n",
       "      <td>0</td>\n",
       "      <td>0</td>\n",
       "      <td>0</td>\n",
       "      <td>...</td>\n",
       "      <td>0</td>\n",
       "      <td>0</td>\n",
       "      <td>0</td>\n",
       "      <td>0</td>\n",
       "      <td>0</td>\n",
       "      <td>0</td>\n",
       "      <td>0</td>\n",
       "      <td>0</td>\n",
       "      <td>0</td>\n",
       "      <td>0</td>\n",
       "    </tr>\n",
       "    <tr>\n",
       "      <th>4</th>\n",
       "      <td>Australia</td>\n",
       "      <td>12675</td>\n",
       "      <td>1</td>\n",
       "      <td>1</td>\n",
       "      <td>0</td>\n",
       "      <td>1</td>\n",
       "      <td>0</td>\n",
       "      <td>14</td>\n",
       "      <td>0</td>\n",
       "      <td>1</td>\n",
       "      <td>...</td>\n",
       "      <td>20</td>\n",
       "      <td>0</td>\n",
       "      <td>7</td>\n",
       "      <td>6</td>\n",
       "      <td>0</td>\n",
       "      <td>1</td>\n",
       "      <td>1</td>\n",
       "      <td>4</td>\n",
       "      <td>0</td>\n",
       "      <td>1</td>\n",
       "    </tr>\n",
       "  </tbody>\n",
       "</table>\n",
       "<p>5 rows × 24 columns</p>\n",
       "</div>"
      ],
      "text/plain": [
       "               country  2001_extent  2002   2003   2004   2005   2006   2007  \\\n",
       "0               Angola      2457476  3500   2964   2355   3110   1401   8060   \n",
       "1  Antigua and Barbuda           59     0      0      0      0      0      0   \n",
       "2            Argentina      4412118  9317  14448  28084  31424  24101  18688   \n",
       "3                Aruba            8     0      0      0      0      0      0   \n",
       "4            Australia        12675     1      1      0      1      0     14   \n",
       "\n",
       "    2008   2009  ...   2014   2015   2016   2017   2018   2019   2020   2021  \\\n",
       "0   2699   5343  ...  10993   9000  12048  11180  13520  10005   8918  24339   \n",
       "1      0      0  ...      0      0      0      0      4      0      0      0   \n",
       "2  47052  20819  ...  19290  10542  15242  17189   9493   8965  20834  11904   \n",
       "3      0      0  ...      0      0      0      0      0      0      0      0   \n",
       "4      0      1  ...     20      0      7      6      0      1      1      4   \n",
       "\n",
       "    2022   2023  \n",
       "0  15589  17669  \n",
       "1      0      0  \n",
       "2  21382  11443  \n",
       "3      0      0  \n",
       "4      0      1  \n",
       "\n",
       "[5 rows x 24 columns]"
      ]
     },
     "execution_count": 30,
     "metadata": {},
     "output_type": "execute_result"
    }
   ],
   "source": [
    "import pandas as pd\n",
    "\n",
    "df = pd.read_excel(\"../data/deforestation/gfw_2023_statistics_summary.xlsx\",sheet_name=\"primary_forest_loss\")\n",
    "df.head()"
   ]
  },
  {
   "cell_type": "code",
   "execution_count": 31,
   "metadata": {},
   "outputs": [],
   "source": [
    "df.rename(columns={\"2001_extent\": '2001'}, inplace=True)"
   ]
  },
  {
   "cell_type": "code",
   "execution_count": 32,
   "metadata": {},
   "outputs": [],
   "source": [
    "colunas_string = []\n",
    "for column in df.columns:\n",
    "    colunas_string.append(str(column))\n",
    "df.columns = colunas_string\n",
    "df.reset_index(inplace=True)"
   ]
  },
  {
   "cell_type": "code",
   "execution_count": 33,
   "metadata": {},
   "outputs": [],
   "source": [
    "df = df.melt(id_vars=\"country\", var_name=\"ano\", value_vars=df.columns[1:],)"
   ]
  },
  {
   "cell_type": "markdown",
   "metadata": {},
   "source": [
    "Transformando para km2"
   ]
  },
  {
   "cell_type": "code",
   "execution_count": 41,
   "metadata": {},
   "outputs": [],
   "source": [
    "df[\"value\"] = df[\"value\"].apply(lambda x: int(x/1000))"
   ]
  },
  {
   "cell_type": "markdown",
   "metadata": {},
   "source": [
    "\"In this data set, “tree cover” is defined as all vegetation greater than 5 meters in height, and may take the form of natural forests or plantations across a range of canopy densities. “Loss” indicates the removal or mortality of tree cover and can be due to a variety of factors, including mechanical harvesting, fire, disease, or storm damage. As such, “loss” does not equate to deforestation. The 2011-2020 data was produced using updated methodology. Comparisons between the original 2001-2010 data and the 2011-2020 update should be performed with caution.\n",
    "\""
   ]
  },
  {
   "cell_type": "code",
   "execution_count": 45,
   "metadata": {},
   "outputs": [],
   "source": [
    "df = df[df[\"ano\"] != \"2001\"]"
   ]
  },
  {
   "cell_type": "markdown",
   "metadata": {},
   "source": [
    "UNIDADE ha"
   ]
  },
  {
   "cell_type": "code",
   "execution_count": 46,
   "metadata": {},
   "outputs": [],
   "source": [
    "df.to_excel(\"../data/deforestation/gfw_2023_statistics_summary_clean_melted.xlsx\", index=False)"
   ]
  }
 ],
 "metadata": {
  "kernelspec": {
   "display_name": "venv",
   "language": "python",
   "name": "python3"
  },
  "language_info": {
   "codemirror_mode": {
    "name": "ipython",
    "version": 3
   },
   "file_extension": ".py",
   "mimetype": "text/x-python",
   "name": "python",
   "nbconvert_exporter": "python",
   "pygments_lexer": "ipython3",
   "version": "3.12.3"
  }
 },
 "nbformat": 4,
 "nbformat_minor": 2
}
